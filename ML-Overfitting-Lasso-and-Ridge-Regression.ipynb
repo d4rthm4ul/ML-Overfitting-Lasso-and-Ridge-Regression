{
 "cells": [
  {
   "cell_type": "code",
   "execution_count": 1,
   "id": "6912462c",
   "metadata": {},
   "outputs": [],
   "source": [
    "from sklearn.model_selection import train_test_split\n",
    "from sklearn.linear_model import LinearRegression\n",
    "from sklearn.linear_model import Lasso\n",
    "import matplotlib.pyplot as plt\n",
    "from sklearn.metrics import *\n",
    "import pandas as pd\n",
    "import numpy as np\n",
    "import warnings"
   ]
  },
  {
   "cell_type": "code",
   "execution_count": 2,
   "id": "ffae719f",
   "metadata": {},
   "outputs": [],
   "source": [
    "warnings.filterwarnings(\"ignore\")"
   ]
  },
  {
   "cell_type": "code",
   "execution_count": 3,
   "id": "6330dc99",
   "metadata": {},
   "outputs": [],
   "source": [
    "train=pd.read_csv('overfittrain.csv')\n",
    "test=pd.read_csv('overfittest.csv')"
   ]
  },
  {
   "cell_type": "code",
   "execution_count": 4,
   "id": "de4e9660",
   "metadata": {},
   "outputs": [
    {
     "data": {
      "text/html": [
       "<div>\n",
       "<style scoped>\n",
       "    .dataframe tbody tr th:only-of-type {\n",
       "        vertical-align: middle;\n",
       "    }\n",
       "\n",
       "    .dataframe tbody tr th {\n",
       "        vertical-align: top;\n",
       "    }\n",
       "\n",
       "    .dataframe thead th {\n",
       "        text-align: right;\n",
       "    }\n",
       "</style>\n",
       "<table border=\"1\" class=\"dataframe\">\n",
       "  <thead>\n",
       "    <tr style=\"text-align: right;\">\n",
       "      <th></th>\n",
       "      <th>input1</th>\n",
       "      <th>input2</th>\n",
       "      <th>input3</th>\n",
       "      <th>input4</th>\n",
       "      <th>input5</th>\n",
       "      <th>target</th>\n",
       "    </tr>\n",
       "  </thead>\n",
       "  <tbody>\n",
       "    <tr>\n",
       "      <th>0</th>\n",
       "      <td>7.0</td>\n",
       "      <td>5.0</td>\n",
       "      <td>7.0</td>\n",
       "      <td>7.00</td>\n",
       "      <td>1.5</td>\n",
       "      <td>1</td>\n",
       "    </tr>\n",
       "    <tr>\n",
       "      <th>1</th>\n",
       "      <td>54.0</td>\n",
       "      <td>57.0</td>\n",
       "      <td>55.0</td>\n",
       "      <td>27.50</td>\n",
       "      <td>114.0</td>\n",
       "      <td>36</td>\n",
       "    </tr>\n",
       "    <tr>\n",
       "      <th>2</th>\n",
       "      <td>9.0</td>\n",
       "      <td>12.0</td>\n",
       "      <td>10.0</td>\n",
       "      <td>5.00</td>\n",
       "      <td>24.0</td>\n",
       "      <td>6</td>\n",
       "    </tr>\n",
       "    <tr>\n",
       "      <th>3</th>\n",
       "      <td>52.5</td>\n",
       "      <td>55.5</td>\n",
       "      <td>53.5</td>\n",
       "      <td>26.75</td>\n",
       "      <td>111.0</td>\n",
       "      <td>35</td>\n",
       "    </tr>\n",
       "    <tr>\n",
       "      <th>4</th>\n",
       "      <td>4.0</td>\n",
       "      <td>11.0</td>\n",
       "      <td>5.0</td>\n",
       "      <td>45.00</td>\n",
       "      <td>12.0</td>\n",
       "      <td>2</td>\n",
       "    </tr>\n",
       "    <tr>\n",
       "      <th>5</th>\n",
       "      <td>45.0</td>\n",
       "      <td>4.0</td>\n",
       "      <td>4.0</td>\n",
       "      <td>7.00</td>\n",
       "      <td>1.0</td>\n",
       "      <td>7</td>\n",
       "    </tr>\n",
       "    <tr>\n",
       "      <th>6</th>\n",
       "      <td>7.5</td>\n",
       "      <td>10.5</td>\n",
       "      <td>8.5</td>\n",
       "      <td>4.25</td>\n",
       "      <td>21.0</td>\n",
       "      <td>5</td>\n",
       "    </tr>\n",
       "    <tr>\n",
       "      <th>7</th>\n",
       "      <td>36.0</td>\n",
       "      <td>39.0</td>\n",
       "      <td>37.0</td>\n",
       "      <td>18.50</td>\n",
       "      <td>78.0</td>\n",
       "      <td>24</td>\n",
       "    </tr>\n",
       "    <tr>\n",
       "      <th>8</th>\n",
       "      <td>54.0</td>\n",
       "      <td>57.0</td>\n",
       "      <td>55.0</td>\n",
       "      <td>27.50</td>\n",
       "      <td>114.0</td>\n",
       "      <td>36</td>\n",
       "    </tr>\n",
       "    <tr>\n",
       "      <th>9</th>\n",
       "      <td>73.5</td>\n",
       "      <td>76.5</td>\n",
       "      <td>74.5</td>\n",
       "      <td>37.25</td>\n",
       "      <td>153.0</td>\n",
       "      <td>49</td>\n",
       "    </tr>\n",
       "  </tbody>\n",
       "</table>\n",
       "</div>"
      ],
      "text/plain": [
       "   input1  input2  input3  input4  input5  target\n",
       "0     7.0     5.0     7.0    7.00     1.5       1\n",
       "1    54.0    57.0    55.0   27.50   114.0      36\n",
       "2     9.0    12.0    10.0    5.00    24.0       6\n",
       "3    52.5    55.5    53.5   26.75   111.0      35\n",
       "4     4.0    11.0     5.0   45.00    12.0       2\n",
       "5    45.0     4.0     4.0    7.00     1.0       7\n",
       "6     7.5    10.5     8.5    4.25    21.0       5\n",
       "7    36.0    39.0    37.0   18.50    78.0      24\n",
       "8    54.0    57.0    55.0   27.50   114.0      36\n",
       "9    73.5    76.5    74.5   37.25   153.0      49"
      ]
     },
     "execution_count": 4,
     "metadata": {},
     "output_type": "execute_result"
    }
   ],
   "source": [
    "train.head(10)"
   ]
  },
  {
   "cell_type": "code",
   "execution_count": 5,
   "id": "6eacbf2a",
   "metadata": {},
   "outputs": [
    {
     "data": {
      "text/html": [
       "<div>\n",
       "<style scoped>\n",
       "    .dataframe tbody tr th:only-of-type {\n",
       "        vertical-align: middle;\n",
       "    }\n",
       "\n",
       "    .dataframe tbody tr th {\n",
       "        vertical-align: top;\n",
       "    }\n",
       "\n",
       "    .dataframe thead th {\n",
       "        text-align: right;\n",
       "    }\n",
       "</style>\n",
       "<table border=\"1\" class=\"dataframe\">\n",
       "  <thead>\n",
       "    <tr style=\"text-align: right;\">\n",
       "      <th></th>\n",
       "      <th>input1</th>\n",
       "      <th>input2</th>\n",
       "      <th>input3</th>\n",
       "      <th>input4</th>\n",
       "      <th>input5</th>\n",
       "      <th>target</th>\n",
       "    </tr>\n",
       "  </thead>\n",
       "  <tbody>\n",
       "    <tr>\n",
       "      <th>input1</th>\n",
       "      <td>1.000000</td>\n",
       "      <td>0.894441</td>\n",
       "      <td>0.814930</td>\n",
       "      <td>0.113240</td>\n",
       "      <td>0.958105</td>\n",
       "      <td>0.961522</td>\n",
       "    </tr>\n",
       "    <tr>\n",
       "      <th>input2</th>\n",
       "      <td>0.894441</td>\n",
       "      <td>1.000000</td>\n",
       "      <td>0.752368</td>\n",
       "      <td>0.100058</td>\n",
       "      <td>0.894043</td>\n",
       "      <td>0.887137</td>\n",
       "    </tr>\n",
       "    <tr>\n",
       "      <th>input3</th>\n",
       "      <td>0.814930</td>\n",
       "      <td>0.752368</td>\n",
       "      <td>1.000000</td>\n",
       "      <td>0.077787</td>\n",
       "      <td>0.832580</td>\n",
       "      <td>0.826593</td>\n",
       "    </tr>\n",
       "    <tr>\n",
       "      <th>input4</th>\n",
       "      <td>0.113240</td>\n",
       "      <td>0.100058</td>\n",
       "      <td>0.077787</td>\n",
       "      <td>1.000000</td>\n",
       "      <td>0.102200</td>\n",
       "      <td>0.138107</td>\n",
       "    </tr>\n",
       "    <tr>\n",
       "      <th>input5</th>\n",
       "      <td>0.958105</td>\n",
       "      <td>0.894043</td>\n",
       "      <td>0.832580</td>\n",
       "      <td>0.102200</td>\n",
       "      <td>1.000000</td>\n",
       "      <td>0.968234</td>\n",
       "    </tr>\n",
       "    <tr>\n",
       "      <th>target</th>\n",
       "      <td>0.961522</td>\n",
       "      <td>0.887137</td>\n",
       "      <td>0.826593</td>\n",
       "      <td>0.138107</td>\n",
       "      <td>0.968234</td>\n",
       "      <td>1.000000</td>\n",
       "    </tr>\n",
       "  </tbody>\n",
       "</table>\n",
       "</div>"
      ],
      "text/plain": [
       "          input1    input2    input3    input4    input5    target\n",
       "input1  1.000000  0.894441  0.814930  0.113240  0.958105  0.961522\n",
       "input2  0.894441  1.000000  0.752368  0.100058  0.894043  0.887137\n",
       "input3  0.814930  0.752368  1.000000  0.077787  0.832580  0.826593\n",
       "input4  0.113240  0.100058  0.077787  1.000000  0.102200  0.138107\n",
       "input5  0.958105  0.894043  0.832580  0.102200  1.000000  0.968234\n",
       "target  0.961522  0.887137  0.826593  0.138107  0.968234  1.000000"
      ]
     },
     "execution_count": 5,
     "metadata": {},
     "output_type": "execute_result"
    }
   ],
   "source": [
    "train.corr()"
   ]
  },
  {
   "cell_type": "code",
   "execution_count": 6,
   "id": "b58abf48",
   "metadata": {},
   "outputs": [],
   "source": [
    "X_train=train.iloc[:,:-1]\n",
    "X_test=test.iloc[:,:-1]\n",
    "y_train=train.iloc[:,-1]\n",
    "y_test=test.iloc[:,-1]"
   ]
  },
  {
   "cell_type": "code",
   "execution_count": 7,
   "id": "f8c78ad5",
   "metadata": {},
   "outputs": [],
   "source": [
    "model=LinearRegression()"
   ]
  },
  {
   "cell_type": "code",
   "execution_count": 8,
   "id": "15ea7ae9",
   "metadata": {},
   "outputs": [
    {
     "data": {
      "text/plain": [
       "LinearRegression()"
      ]
     },
     "execution_count": 8,
     "metadata": {},
     "output_type": "execute_result"
    }
   ],
   "source": [
    "model.fit(X_train,y_train)"
   ]
  },
  {
   "cell_type": "code",
   "execution_count": 9,
   "id": "5ae4cc4e",
   "metadata": {},
   "outputs": [],
   "source": [
    "y_pred = model.predict(X_test)\n",
    "y_pred_trains = model.predict(X_train)"
   ]
  },
  {
   "cell_type": "code",
   "execution_count": 10,
   "id": "e17656cd",
   "metadata": {},
   "outputs": [
    {
     "data": {
      "text/html": [
       "<div>\n",
       "<style scoped>\n",
       "    .dataframe tbody tr th:only-of-type {\n",
       "        vertical-align: middle;\n",
       "    }\n",
       "\n",
       "    .dataframe tbody tr th {\n",
       "        vertical-align: top;\n",
       "    }\n",
       "\n",
       "    .dataframe thead th {\n",
       "        text-align: right;\n",
       "    }\n",
       "</style>\n",
       "<table border=\"1\" class=\"dataframe\">\n",
       "  <thead>\n",
       "    <tr style=\"text-align: right;\">\n",
       "      <th></th>\n",
       "      <th>Actual</th>\n",
       "      <th>Predicted</th>\n",
       "    </tr>\n",
       "  </thead>\n",
       "  <tbody>\n",
       "    <tr>\n",
       "      <th>0</th>\n",
       "      <td>54</td>\n",
       "      <td>47.391544</td>\n",
       "    </tr>\n",
       "    <tr>\n",
       "      <th>1</th>\n",
       "      <td>65</td>\n",
       "      <td>57.050430</td>\n",
       "    </tr>\n",
       "    <tr>\n",
       "      <th>2</th>\n",
       "      <td>70</td>\n",
       "      <td>61.440832</td>\n",
       "    </tr>\n",
       "    <tr>\n",
       "      <th>3</th>\n",
       "      <td>70</td>\n",
       "      <td>61.440832</td>\n",
       "    </tr>\n",
       "    <tr>\n",
       "      <th>4</th>\n",
       "      <td>52</td>\n",
       "      <td>45.635383</td>\n",
       "    </tr>\n",
       "    <tr>\n",
       "      <th>5</th>\n",
       "      <td>92</td>\n",
       "      <td>80.758603</td>\n",
       "    </tr>\n",
       "    <tr>\n",
       "      <th>6</th>\n",
       "      <td>53</td>\n",
       "      <td>46.513464</td>\n",
       "    </tr>\n",
       "    <tr>\n",
       "      <th>7</th>\n",
       "      <td>73</td>\n",
       "      <td>64.075074</td>\n",
       "    </tr>\n",
       "    <tr>\n",
       "      <th>8</th>\n",
       "      <td>61</td>\n",
       "      <td>53.538108</td>\n",
       "    </tr>\n",
       "    <tr>\n",
       "      <th>9</th>\n",
       "      <td>88</td>\n",
       "      <td>77.246281</td>\n",
       "    </tr>\n",
       "  </tbody>\n",
       "</table>\n",
       "</div>"
      ],
      "text/plain": [
       "   Actual  Predicted\n",
       "0      54  47.391544\n",
       "1      65  57.050430\n",
       "2      70  61.440832\n",
       "3      70  61.440832\n",
       "4      52  45.635383\n",
       "5      92  80.758603\n",
       "6      53  46.513464\n",
       "7      73  64.075074\n",
       "8      61  53.538108\n",
       "9      88  77.246281"
      ]
     },
     "execution_count": 10,
     "metadata": {},
     "output_type": "execute_result"
    }
   ],
   "source": [
    "df=pd.DataFrame({'Actual':y_test,'Predicted':y_pred}).head(10)\n",
    "df"
   ]
  },
  {
   "cell_type": "code",
   "execution_count": 11,
   "id": "52a60deb",
   "metadata": {},
   "outputs": [
    {
     "data": {
      "image/png": "[encoded data removed]",
      "text/plain": [
       "<Figure size 936x504 with 1 Axes>"
      ]
     },
     "metadata": {
      "needs_background": "light"
     },
     "output_type": "display_data"
    }
   ],
   "source": [
    "df.plot(kind='bar',figsize=(13,7))\n",
    "plt.grid(which='major', linestyle='-', linewidth='0.5', color='green')\n",
    "plt.grid(which='minor', linestyle=':', linewidth='0.5', color='black')\n",
    "plt.show()"
   ]
  },
  {
   "cell_type": "code",
   "execution_count": 12,
   "id": "5436e80e",
   "metadata": {},
   "outputs": [
    {
     "name": "stdout",
     "output_type": "stream",
     "text": [
      "R^2: 0.9533433466614624\n",
      "Adjusted R^2 : 0.9531086552462785\n",
      "Mean Absolute Error: 0.961819692069944\n",
      "Mean Squared Error: 9.40660646554726\n",
      "Root Mean Squared Error: 3.067019149850105\n"
     ]
    }
   ],
   "source": [
    "#R2 score on train data\n",
    "\n",
    "n = X_train.shape[0]\n",
    "p = X_train.shape[1]\n",
    "r2 = r2_score(y_train, y_pred_trains)\n",
    "print('R^2:' , r2)\n",
    "print('Adjusted R^2 :' , 1-(1-r2)*(n-1)/(n-p-1))\n",
    "print('Mean Absolute Error:' , mean_absolute_error(y_train, y_pred_trains))\n",
    "print('Mean Squared Error:' , mean_squared_error(y_train, y_pred_trains))\n",
    "print('Root Mean Squared Error:' , np.sqrt(mean_squared_error(y_train, y_pred_trains)))"
   ]
  },
  {
   "cell_type": "code",
   "execution_count": 13,
   "id": "1ec39b5d",
   "metadata": {},
   "outputs": [
    {
     "name": "stdout",
     "output_type": "stream",
     "text": [
      "R^2: 0.5853773941881704\n",
      "Adjusted R^2 : 0.5768810293149771\n",
      "Mean Absolute Error: 8.995151836843103\n",
      "Mean Squared Error: 83.92136678220125\n",
      "Root Mean Squared Error: 9.160860591789467\n"
     ]
    }
   ],
   "source": [
    "#R2 score on test data\n",
    "\n",
    "n = X_test.shape[0]\n",
    "p = X_test.shape[1]\n",
    "r2 = r2_score(y_test, y_pred)\n",
    "print('R^2:' , r2)\n",
    "print('Adjusted R^2 :' , 1-(1-r2)*(n-1)/(n-p-1))\n",
    "print('Mean Absolute Error:' , mean_absolute_error(y_test, y_pred))\n",
    "print('Mean Squared Error:' , mean_squared_error(y_test, y_pred))\n",
    "print('Root Mean Squared Error:' , np.sqrt(mean_squared_error(y_test, y_pred)))"
   ]
  },
  {
   "cell_type": "code",
   "execution_count": 14,
   "id": "cc1eb4f7",
   "metadata": {},
   "outputs": [],
   "source": [
    "model=Lasso(alpha=-3.9)"
   ]
  },
  {
   "cell_type": "code",
   "execution_count": 15,
   "id": "7cd86532",
   "metadata": {},
   "outputs": [
    {
     "data": {
      "text/plain": [
       "Lasso(alpha=-3.9)"
      ]
     },
     "execution_count": 15,
     "metadata": {},
     "output_type": "execute_result"
    }
   ],
   "source": [
    "model.fit(X_train,y_train)"
   ]
  },
  {
   "cell_type": "code",
   "execution_count": 16,
   "id": "38097657",
   "metadata": {},
   "outputs": [],
   "source": [
    "y_pred = model.predict(X_test)\n",
    "y_pred_trains = model.predict(X_train)"
   ]
  },
  {
   "cell_type": "code",
   "execution_count": 17,
   "id": "53eb2be6",
   "metadata": {},
   "outputs": [
    {
     "data": {
      "text/html": [
       "<div>\n",
       "<style scoped>\n",
       "    .dataframe tbody tr th:only-of-type {\n",
       "        vertical-align: middle;\n",
       "    }\n",
       "\n",
       "    .dataframe tbody tr th {\n",
       "        vertical-align: top;\n",
       "    }\n",
       "\n",
       "    .dataframe thead th {\n",
       "        text-align: right;\n",
       "    }\n",
       "</style>\n",
       "<table border=\"1\" class=\"dataframe\">\n",
       "  <thead>\n",
       "    <tr style=\"text-align: right;\">\n",
       "      <th></th>\n",
       "      <th>Actual</th>\n",
       "      <th>Predicted</th>\n",
       "    </tr>\n",
       "  </thead>\n",
       "  <tbody>\n",
       "    <tr>\n",
       "      <th>0</th>\n",
       "      <td>54</td>\n",
       "      <td>54.936259</td>\n",
       "    </tr>\n",
       "    <tr>\n",
       "      <th>1</th>\n",
       "      <td>65</td>\n",
       "      <td>66.181242</td>\n",
       "    </tr>\n",
       "    <tr>\n",
       "      <th>2</th>\n",
       "      <td>70</td>\n",
       "      <td>71.292598</td>\n",
       "    </tr>\n",
       "    <tr>\n",
       "      <th>3</th>\n",
       "      <td>70</td>\n",
       "      <td>71.292598</td>\n",
       "    </tr>\n",
       "    <tr>\n",
       "      <th>4</th>\n",
       "      <td>52</td>\n",
       "      <td>52.891717</td>\n",
       "    </tr>\n",
       "    <tr>\n",
       "      <th>5</th>\n",
       "      <td>92</td>\n",
       "      <td>93.782563</td>\n",
       "    </tr>\n",
       "    <tr>\n",
       "      <th>6</th>\n",
       "      <td>53</td>\n",
       "      <td>53.913988</td>\n",
       "    </tr>\n",
       "    <tr>\n",
       "      <th>7</th>\n",
       "      <td>73</td>\n",
       "      <td>74.359411</td>\n",
       "    </tr>\n",
       "    <tr>\n",
       "      <th>8</th>\n",
       "      <td>61</td>\n",
       "      <td>62.092157</td>\n",
       "    </tr>\n",
       "    <tr>\n",
       "      <th>9</th>\n",
       "      <td>88</td>\n",
       "      <td>89.693478</td>\n",
       "    </tr>\n",
       "  </tbody>\n",
       "</table>\n",
       "</div>"
      ],
      "text/plain": [
       "   Actual  Predicted\n",
       "0      54  54.936259\n",
       "1      65  66.181242\n",
       "2      70  71.292598\n",
       "3      70  71.292598\n",
       "4      52  52.891717\n",
       "5      92  93.782563\n",
       "6      53  53.913988\n",
       "7      73  74.359411\n",
       "8      61  62.092157\n",
       "9      88  89.693478"
      ]
     },
     "execution_count": 17,
     "metadata": {},
     "output_type": "execute_result"
    }
   ],
   "source": [
    "df=pd.DataFrame({'Actual':y_test,'Predicted':y_pred}).head(10)\n",
    "df"
   ]
  },
  {
   "cell_type": "code",
   "execution_count": 18,
   "id": "690a442e",
   "metadata": {},
   "outputs": [
    {
     "data": {
      "image/png": "[encoded data removed]",
      "text/plain": [
       "<Figure size 936x504 with 1 Axes>"
      ]
     },
     "metadata": {
      "needs_background": "light"
     },
     "output_type": "display_data"
    }
   ],
   "source": [
    "df.plot(kind='bar',figsize=(13,7))\n",
    "plt.grid(which='major', linestyle='-', linewidth='0.5', color='green')\n",
    "plt.grid(which='minor', linestyle=':', linewidth='0.5', color='black')\n",
    "plt.show()"
   ]
  },
  {
   "cell_type": "code",
   "execution_count": 19,
   "id": "21591060",
   "metadata": {},
   "outputs": [
    {
     "name": "stdout",
     "output_type": "stream",
     "text": [
      "R^2: 0.9526086525196978\n",
      "Adjusted R^2 : 0.9523702654599377\n",
      "Mean Absolute Error: 0.8510122991510984\n",
      "Mean Squared Error: 9.554730648693814\n",
      "Root Mean Squared Error: 3.091072734293681\n"
     ]
    }
   ],
   "source": [
    "#R2 score on train data\n",
    "\n",
    "n = X_train.shape[0]\n",
    "p = X_train.shape[1]\n",
    "r2 = r2_score(y_train, y_pred_trains)\n",
    "print('R^2:' , r2)\n",
    "print('Adjusted R^2 :' , 1-(1-r2)*(n-1)/(n-p-1))\n",
    "print('Mean Absolute Error:' , mean_absolute_error(y_train, y_pred_trains))\n",
    "print('Mean Squared Error:' , mean_squared_error(y_train, y_pred_trains))\n",
    "print('Root Mean Squared Error:' , np.sqrt(mean_squared_error(y_train, y_pred_trains)))"
   ]
  },
  {
   "cell_type": "code",
   "execution_count": 20,
   "id": "3ce0d6e6",
   "metadata": {},
   "outputs": [
    {
     "name": "stdout",
     "output_type": "stream",
     "text": [
      "R^2: 0.9902006309823388\n",
      "Adjusted R^2 : 0.9899998242401736\n",
      "Mean Absolute Error: 1.3722392189978432\n",
      "Mean Squared Error: 1.9834336817093636\n",
      "Root Mean Squared Error: 1.4083443051006255\n"
     ]
    }
   ],
   "source": [
    "#R2 score on test data\n",
    "\n",
    "n = X_test.shape[0]\n",
    "p = X_test.shape[1]\n",
    "r2 = r2_score(y_test, y_pred)\n",
    "print('R^2:' , r2)\n",
    "print('Adjusted R^2 :' , 1-(1-r2)*(n-1)/(n-p-1))\n",
    "print('Mean Absolute Error:' , mean_absolute_error(y_test, y_pred))\n",
    "print('Mean Squared Error:' , mean_squared_error(y_test, y_pred))\n",
    "print('Root Mean Squared Error:' , np.sqrt(mean_squared_error(y_test, y_pred)))"
   ]
  },
  {
   "cell_type": "code",
   "execution_count": 21,
   "id": "2023567e",
   "metadata": {},
   "outputs": [],
   "source": [
    "data=pd.read_csv('overfitdata.csv')"
   ]
  },
  {
   "cell_type": "code",
   "execution_count": 22,
   "id": "7a0f322f",
   "metadata": {},
   "outputs": [],
   "source": [
    "X_train = data.iloc[:, :-1]\n",
    "y_train = data.iloc[:,-1]"
   ]
  },
  {
   "cell_type": "code",
   "execution_count": 23,
   "id": "881d4136",
   "metadata": {},
   "outputs": [],
   "source": [
    "X_test = [0,1,2,3,4]\n",
    "alpha = [1,2,3,4]"
   ]
  },
  {
   "cell_type": "code",
   "execution_count": 24,
   "id": "3b8a551e",
   "metadata": {},
   "outputs": [
    {
     "data": {
      "image/png": "[encoded data removed]",
      "text/plain": [
       "<Figure size 432x288 with 1 Axes>"
      ]
     },
     "metadata": {
      "needs_background": "light"
     },
     "output_type": "display_data"
    }
   ],
   "source": [
    "for l in alpha:\n",
    "    model = Lasso(alpha=l)\n",
    "    model.fit(X_train, y_train)\n",
    "\n",
    "    model_coeff = model.coef_\n",
    "    model_intercept = model.intercept_\n",
    "    y_pred = model.predict(pd.DataFrame(X_test))\n",
    "    \n",
    "    plt.figure(2)       \n",
    "    plt.plot(X_test, y_pred)\n",
    "    plt.ylim(ymin=0, ymax=9)\n",
    "    plt.xlim(xmin=0, xmax=6)\n",
    "    plt.text(X_test[-1], y_pred[-1],  \n",
    "             ' y = ' + \n",
    "             str('%.2f' %model_coeff) +\n",
    "             ' * x' + \n",
    "             ' + ' + \n",
    "             str('%.2f' %model_intercept) +\n",
    "             '      for \\u03BB or \\u03B1 = ' + str(l), fontsize=12)"
   ]
  },
  {
   "cell_type": "code",
   "execution_count": 25,
   "id": "7bc6aa4a",
   "metadata": {},
   "outputs": [
    {
     "data": {
      "image/png": "[encoded data removed]",
      "text/plain": [
       "<Figure size 432x288 with 4 Axes>"
      ]
     },
     "metadata": {
      "needs_background": "light"
     },
     "output_type": "display_data"
    }
   ],
   "source": [
    "for i, l in enumerate(alpha):\n",
    "    model = Lasso(alpha=l)\n",
    "    model.fit(X_train, y_train)\n",
    "\n",
    "    model_coeff = model.coef_\n",
    "    model_intercept = model.intercept_\n",
    "    y_pred = model.predict(pd.DataFrame(X_test))\n",
    "\n",
    "    plt.figure(1)    \n",
    "    plt.subplot(2,2,i+1)\n",
    "    plt.plot(X_test, y_pred)\n",
    "    plt.ylim(ymin=0, ymax=9)\n",
    "    plt.xlim(xmin=0, xmax=6)\n",
    "    plt.title(' y = ' + \n",
    "             str('%.2f' %model_coeff) +\n",
    "             ' * x' + \n",
    "             ' + ' + \n",
    "             str('%.2f' %model_intercept) +\n",
    "             ' for \\u03BB or \\u03B1 = ' + str(l), fontsize=12)\n",
    "    plt.tight_layout()"
   ]
  }
 ],
 "metadata": {
  "kernelspec": {
   "display_name": "Python 3",
   "language": "python",
   "name": "python3"
  },
  "language_info": {
   "codemirror_mode": {
    "name": "ipython",
    "version": 3
   },
   "file_extension": ".py",
   "mimetype": "text/x-python",
   "name": "python",
   "nbconvert_exporter": "python",
   "pygments_lexer": "ipython3",
   "version": "3.8.8"
  }
 },
 "nbformat": 4,
 "nbformat_minor": 5
}
